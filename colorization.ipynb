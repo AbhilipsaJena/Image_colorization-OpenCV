{
 "cells": [
  {
   "cell_type": "code",
   "execution_count": 1,
   "id": "c29a49e6-a84d-4175-9bbc-b8db10fa04d8",
   "metadata": {},
   "outputs": [],
   "source": [
    "import numpy as np \n",
    "import cv2\n"
   ]
  },
  {
   "cell_type": "code",
   "execution_count": 2,
   "id": "d7796684-468e-42ea-9797-b16e7fe2de97",
   "metadata": {},
   "outputs": [
    {
     "name": "stdout",
     "output_type": "stream",
     "text": [
      "Models loading...\n"
     ]
    }
   ],
   "source": [
    "print(\"Models loading...\")\n",
    "net= cv2.dnn.readNetFromCaffe('colorization_deploy_v2.prototxt', \"colorization_release_v2.caffemodel\")\n",
    "pts= np.load('pts_in_hull.npy')"
   ]
  },
  {
   "cell_type": "code",
   "execution_count": 3,
   "id": "eb4ae5b5-cad1-499a-8f75-f07d87da9ccb",
   "metadata": {},
   "outputs": [],
   "source": [
    "class8 = net.getLayerId(\"class8_ab\")\n",
    "conv8 =  net.getLayerId(\"conv8_313_rh\")\n",
    "pts = pts.transpose().reshape(2,313,1,1)\n",
    "                        "
   ]
  },
  {
   "cell_type": "code",
   "execution_count": 4,
   "id": "e3c10bb4-17d8-4940-a865-fc1d1b19c69d",
   "metadata": {},
   "outputs": [],
   "source": [
    "net.getLayer(class8).blobs = [pts.astype(\"float32\")]\n",
    "net.getLayer(conv8).blobs =  [np.full([1,313],2.606,dtype='float32')]"
   ]
  },
  {
   "cell_type": "code",
   "execution_count": 5,
   "id": "d2e174e1-e6c5-428e-b309-e3738a078e74",
   "metadata": {},
   "outputs": [],
   "source": [
    "image = cv2.imread('b&w.jpg')\n",
    "scaled = image.astype(\"float32\")/255.0\n",
    "lab = cv2.cvtColor(scaled,cv2.COLOR_BGR2LAB)"
   ]
  },
  {
   "cell_type": "code",
   "execution_count": 6,
   "id": "1e592aad-4989-461e-960e-6cc53acfa65f",
   "metadata": {},
   "outputs": [],
   "source": [
    "resized = cv2.resize(lab,(224,224))\n",
    "L = cv2.split(resized)[0]\n",
    "L -= 50"
   ]
  },
  {
   "cell_type": "code",
   "execution_count": 7,
   "id": "b3a37f20-eeb0-48ed-bf30-dbca1287de42",
   "metadata": {},
   "outputs": [],
   "source": [
    "net.setInput(cv2.dnn.blobFromImage(L))\n",
    "ab = net.forward()[0, :, :, :].transpose((1,2,0))\n"
   ]
  },
  {
   "cell_type": "code",
   "execution_count": null,
   "id": "b88e728d-941e-404b-b073-7736c2c05a6f",
   "metadata": {},
   "outputs": [],
   "source": [
    "ab = cv2.resize(ab, (image.shape[1],image.shape[0]))\n",
    "\n",
    "L = cv2.split(lab)[0]\n",
    "colorized = np.concatenate((L[:,:,np.newaxis], ab), axis=2)\n",
    "\n",
    "colorized = cv2.cvtColor(colorized,cv2.COLOR_LAB2BGR)\n",
    "colorized = np.clip(colorized,0,1)\n",
    "\n",
    "colorized = (255 * colorized).astype(\"uint8\")\n",
    "\n",
    "cv2.imshow(\"Original\",image)\n",
    "cv2.imshow(\"Colorized\",colorized)\n",
    "cv2.waitKey(0)"
   ]
  }
 ],
 "metadata": {
  "kernelspec": {
   "display_name": "Python 3 (ipykernel)",
   "language": "python",
   "name": "python3"
  },
  "language_info": {
   "codemirror_mode": {
    "name": "ipython",
    "version": 3
   },
   "file_extension": ".py",
   "mimetype": "text/x-python",
   "name": "python",
   "nbconvert_exporter": "python",
   "pygments_lexer": "ipython3",
   "version": "3.10.9"
  }
 },
 "nbformat": 4,
 "nbformat_minor": 5
}
